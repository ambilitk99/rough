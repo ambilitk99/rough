{
 "cells": [
  {
   "cell_type": "code",
   "execution_count": 2,
   "id": "8971d546",
   "metadata": {},
   "outputs": [
    {
     "name": "stdout",
     "output_type": "stream",
     "text": [
      "Enter the source file to be copied :myfile.txt\n",
      "Enter the destinaton file name :sky.txt\n",
      "File copied\n"
     ]
    }
   ],
   "source": [
    "file1=input(\"Enter the source file to be copied :\")\n",
    "file2=input(\"Enter the destinaton file name :\")\n",
    "fr=open(file1,\"r\")\n",
    "fw=open(file2,\"w\")\n",
    "for line in fr.readlines():\n",
    "    fw.write(line)\n",
    "fr.close()\n",
    "fw.close()\n",
    "print(\"File copied\")"
   ]
  },
  {
   "cell_type": "code",
   "execution_count": 4,
   "id": "a7c2bd21",
   "metadata": {},
   "outputs": [
    {
     "name": "stdout",
     "output_type": "stream",
     "text": [
      "Enter file to be read from: myfile.txt\n",
      "Enter file to be appended to: world\n"
     ]
    }
   ],
   "source": [
    "name1 = input(\"Enter file to be read from: \")\n",
    "name2 = input(\"Enter file to be appended to: \")\n",
    "file = open(name1, \"r\")\n",
    "data2 = file.read()\n",
    "file.close()\n",
    "fout = open(name2, \"a\")\n",
    "fout.write(data2)\n",
    "fout.close()"
   ]
  },
  {
   "cell_type": "code",
   "execution_count": 9,
   "id": "415e7395",
   "metadata": {},
   "outputs": [
    {
     "name": "stdout",
     "output_type": "stream",
     "text": [
      "Enter the name of first file myhome.txt\n",
      "Enter the name of second file myworld.txt\n",
      "content of first file before appending - welcome.\n",
      "content of second file before appending - Hello\n",
      "content of first file after appending - welcome.Hello\n",
      "content of second file after appending - Hello\n"
     ]
    }
   ],
   "source": [
    "# entering the file names\n",
    "firstfile = input(\"Enter the name of first file \")\n",
    "secondfile = input(\"Enter the name of second file \")\n",
    " \n",
    "# opening both files in read only mode to read initial contents\n",
    "f1 = open(firstfile, 'r')\n",
    "f2 = open(secondfile, 'r')\n",
    " \n",
    "# printing the contens of the file before appending\n",
    "print('content of first file before appending -', f1.read())\n",
    "print('content of second file before appending -', f2.read())\n",
    " \n",
    "# closing the files\n",
    "f1.close()\n",
    "f2.close()\n",
    " \n",
    "# opening first file in append mode and second file in read mode\n",
    "f1 = open(firstfile, 'a+')\n",
    "f2 = open(secondfile, 'r')\n",
    " \n",
    "# appending the contents of the second file to the first file\n",
    "f1.write(f2.read())\n",
    " \n",
    "# relocating the cursor of the files at the beginning\n",
    "f1.seek(0)\n",
    "f2.seek(0)\n",
    " \n",
    "# printing the contents of the files after appendng\n",
    "print('content of first file after appending -', f1.read())\n",
    "print('content of second file after appending -', f2.read())\n",
    " \n",
    "# closing the files\n",
    "f1.close()\n",
    "f2.close()\n",
    "\n"
   ]
  },
  {
   "cell_type": "code",
   "execution_count": null,
   "id": "06a4316a",
   "metadata": {},
   "outputs": [],
   "source": []
  },
  {
   "cell_type": "code",
   "execution_count": null,
   "id": "1dc1e80a",
   "metadata": {},
   "outputs": [],
   "source": []
  }
 ],
 "metadata": {
  "kernelspec": {
   "display_name": "Python 3 (ipykernel)",
   "language": "python",
   "name": "python3"
  },
  "language_info": {
   "codemirror_mode": {
    "name": "ipython",
    "version": 3
   },
   "file_extension": ".py",
   "mimetype": "text/x-python",
   "name": "python",
   "nbconvert_exporter": "python",
   "pygments_lexer": "ipython3",
   "version": "3.7.11"
  }
 },
 "nbformat": 4,
 "nbformat_minor": 5
}
