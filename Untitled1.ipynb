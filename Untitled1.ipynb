{
 "cells": [
  {
   "cell_type": "code",
   "execution_count": 1,
   "metadata": {},
   "outputs": [
    {
     "name": "stdout",
     "output_type": "stream",
     "text": [
      "    cars  passing\n",
      "0    bmw        3\n",
      "1  volvo        7\n",
      "2   ford        2\n"
     ]
    }
   ],
   "source": [
    "import pandas as pd\n",
    "a={'cars':[\"bmw\",\"volvo\",\"ford\"],'passing':[3,7,2]}\n",
    "b=pd.DataFrame(a)\n",
    "print(b)\n"
   ]
  },
  {
   "cell_type": "code",
   "execution_count": 2,
   "metadata": {},
   "outputs": [
    {
     "name": "stdout",
     "output_type": "stream",
     "text": [
      "    Duration         Date  Pulse  Maxpulse  Calories\n",
      "0         60  2020/12/01'    110     130.0       NaN\n",
      "1         60  2020/12/02'    117     145.0     479.0\n",
      "2         60  2020/12/03'    103     135.0     340.0\n",
      "3        450  2020/12/04'    109     175.0     201.0\n",
      "4         45  2020/12/05'    117     148.0      62.0\n",
      "5         60  2020/12/06'    102     127.5      77.0\n",
      "6         60  2020/12/07'    110     136.0     216.0\n",
      "7         45  2020/12/08'    104     134.0     253.0\n",
      "8         30     20201209    109     133.0       NaN\n",
      "9         60  2020/12/10'     98     124.0     269.0\n",
      "10        60  2020/12/11'    103     147.0     329.0\n",
      "11        60  2020/12/12'    100     120.0     250.0\n",
      "12        60  2020/12/12'    100     120.0     250.0\n"
     ]
    }
   ],
   "source": [
    "a=pd.read_csv('vt.csv')\n",
    "print(a)\n"
   ]
  },
  {
   "cell_type": "code",
   "execution_count": 3,
   "metadata": {},
   "outputs": [
    {
     "data": {
      "text/html": [
       "<div>\n",
       "<style>\n",
       "    .dataframe thead tr:only-child th {\n",
       "        text-align: right;\n",
       "    }\n",
       "\n",
       "    .dataframe thead th {\n",
       "        text-align: left;\n",
       "    }\n",
       "\n",
       "    .dataframe tbody tr th {\n",
       "        vertical-align: top;\n",
       "    }\n",
       "</style>\n",
       "<table border=\"1\" class=\"dataframe\">\n",
       "  <thead>\n",
       "    <tr style=\"text-align: right;\">\n",
       "      <th></th>\n",
       "      <th>Duration</th>\n",
       "      <th>Date</th>\n",
       "      <th>Pulse</th>\n",
       "      <th>Maxpulse</th>\n",
       "      <th>Calories</th>\n",
       "    </tr>\n",
       "  </thead>\n",
       "  <tbody>\n",
       "    <tr>\n",
       "      <th>0</th>\n",
       "      <td>60</td>\n",
       "      <td>2020/12/01'</td>\n",
       "      <td>110</td>\n",
       "      <td>130.0</td>\n",
       "      <td>NaN</td>\n",
       "    </tr>\n",
       "    <tr>\n",
       "      <th>1</th>\n",
       "      <td>60</td>\n",
       "      <td>2020/12/02'</td>\n",
       "      <td>117</td>\n",
       "      <td>145.0</td>\n",
       "      <td>479.0</td>\n",
       "    </tr>\n",
       "    <tr>\n",
       "      <th>2</th>\n",
       "      <td>60</td>\n",
       "      <td>2020/12/03'</td>\n",
       "      <td>103</td>\n",
       "      <td>135.0</td>\n",
       "      <td>340.0</td>\n",
       "    </tr>\n",
       "    <tr>\n",
       "      <th>3</th>\n",
       "      <td>450</td>\n",
       "      <td>2020/12/04'</td>\n",
       "      <td>109</td>\n",
       "      <td>175.0</td>\n",
       "      <td>201.0</td>\n",
       "    </tr>\n",
       "    <tr>\n",
       "      <th>4</th>\n",
       "      <td>45</td>\n",
       "      <td>2020/12/05'</td>\n",
       "      <td>117</td>\n",
       "      <td>148.0</td>\n",
       "      <td>62.0</td>\n",
       "    </tr>\n",
       "  </tbody>\n",
       "</table>\n",
       "</div>"
      ],
      "text/plain": [
       "   Duration         Date  Pulse  Maxpulse  Calories\n",
       "0        60  2020/12/01'    110     130.0       NaN\n",
       "1        60  2020/12/02'    117     145.0     479.0\n",
       "2        60  2020/12/03'    103     135.0     340.0\n",
       "3       450  2020/12/04'    109     175.0     201.0\n",
       "4        45  2020/12/05'    117     148.0      62.0"
      ]
     },
     "execution_count": 3,
     "metadata": {},
     "output_type": "execute_result"
    }
   ],
   "source": [
    "a=pd.read_csv('vt.csv')\n",
    "a.head(5)"
   ]
  },
  {
   "cell_type": "code",
   "execution_count": 4,
   "metadata": {},
   "outputs": [
    {
     "data": {
      "text/html": [
       "<div>\n",
       "<style>\n",
       "    .dataframe thead tr:only-child th {\n",
       "        text-align: right;\n",
       "    }\n",
       "\n",
       "    .dataframe thead th {\n",
       "        text-align: left;\n",
       "    }\n",
       "\n",
       "    .dataframe tbody tr th {\n",
       "        vertical-align: top;\n",
       "    }\n",
       "</style>\n",
       "<table border=\"1\" class=\"dataframe\">\n",
       "  <thead>\n",
       "    <tr style=\"text-align: right;\">\n",
       "      <th></th>\n",
       "      <th>Duration</th>\n",
       "      <th>Date</th>\n",
       "      <th>Pulse</th>\n",
       "      <th>Maxpulse</th>\n",
       "      <th>Calories</th>\n",
       "    </tr>\n",
       "  </thead>\n",
       "  <tbody>\n",
       "    <tr>\n",
       "      <th>8</th>\n",
       "      <td>30</td>\n",
       "      <td>20201209</td>\n",
       "      <td>109</td>\n",
       "      <td>133.0</td>\n",
       "      <td>NaN</td>\n",
       "    </tr>\n",
       "    <tr>\n",
       "      <th>9</th>\n",
       "      <td>60</td>\n",
       "      <td>2020/12/10'</td>\n",
       "      <td>98</td>\n",
       "      <td>124.0</td>\n",
       "      <td>269.0</td>\n",
       "    </tr>\n",
       "    <tr>\n",
       "      <th>10</th>\n",
       "      <td>60</td>\n",
       "      <td>2020/12/11'</td>\n",
       "      <td>103</td>\n",
       "      <td>147.0</td>\n",
       "      <td>329.0</td>\n",
       "    </tr>\n",
       "    <tr>\n",
       "      <th>11</th>\n",
       "      <td>60</td>\n",
       "      <td>2020/12/12'</td>\n",
       "      <td>100</td>\n",
       "      <td>120.0</td>\n",
       "      <td>250.0</td>\n",
       "    </tr>\n",
       "    <tr>\n",
       "      <th>12</th>\n",
       "      <td>60</td>\n",
       "      <td>2020/12/12'</td>\n",
       "      <td>100</td>\n",
       "      <td>120.0</td>\n",
       "      <td>250.0</td>\n",
       "    </tr>\n",
       "  </tbody>\n",
       "</table>\n",
       "</div>"
      ],
      "text/plain": [
       "    Duration         Date  Pulse  Maxpulse  Calories\n",
       "8         30     20201209    109     133.0       NaN\n",
       "9         60  2020/12/10'     98     124.0     269.0\n",
       "10        60  2020/12/11'    103     147.0     329.0\n",
       "11        60  2020/12/12'    100     120.0     250.0\n",
       "12        60  2020/12/12'    100     120.0     250.0"
      ]
     },
     "execution_count": 4,
     "metadata": {},
     "output_type": "execute_result"
    }
   ],
   "source": [
    "a=pd.read_csv('vt.csv')\n",
    "a.tail(5)"
   ]
  },
  {
   "cell_type": "code",
   "execution_count": 5,
   "metadata": {},
   "outputs": [
    {
     "name": "stdout",
     "output_type": "stream",
     "text": [
      "<class 'pandas.core.frame.DataFrame'>\n",
      "RangeIndex: 13 entries, 0 to 12\n",
      "Data columns (total 5 columns):\n",
      "Duration    13 non-null int64\n",
      "Date        13 non-null object\n",
      "Pulse       13 non-null int64\n",
      "Maxpulse    13 non-null float64\n",
      "Calories    11 non-null float64\n",
      "dtypes: float64(2), int64(2), object(1)\n",
      "memory usage: 600.0+ bytes\n"
     ]
    }
   ],
   "source": [
    "a=pd.read_csv('vt.csv')\n",
    "a.info()"
   ]
  },
  {
   "cell_type": "code",
   "execution_count": null,
   "metadata": {
    "collapsed": true
   },
   "outputs": [],
   "source": [
    "a=pd.read_csv('vt.csv')\n",
    "a['Cal']"
   ]
  }
 ],
 "metadata": {
  "kernelspec": {
   "display_name": "Python 3",
   "language": "python",
   "name": "python3"
  },
  "language_info": {
   "codemirror_mode": {
    "name": "ipython",
    "version": 3
   },
   "file_extension": ".py",
   "mimetype": "text/x-python",
   "name": "python",
   "nbconvert_exporter": "python",
   "pygments_lexer": "ipython3",
   "version": "3.6.3"
  }
 },
 "nbformat": 4,
 "nbformat_minor": 2
}
