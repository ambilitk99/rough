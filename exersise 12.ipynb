{
 "cells": [
  {
   "cell_type": "code",
   "execution_count": 7,
   "id": "f2af6343",
   "metadata": {},
   "outputs": [
    {
     "name": "stdout",
     "output_type": "stream",
     "text": [
      "ENTER LENGTH OF FIRST RECTANGLE:10\n",
      "ENTER BREADTH OF FIRST RECTANGLE: 10\n",
      "ENTER LENGTH OF SECOND RECTANGLE:5\n",
      "ENTER BREADTH OF SECOND RECTANGLE:5\n",
      "PERIMETER OF FIRST:  40\n",
      "PERIMETER OF SECOND:  20\n",
      "FIRST RECTANGLE IS LARGER IN AREA AND THE DIFFERENCE IS, 75\n"
     ]
    }
   ],
   "source": [
    "#area of rectangle using class and object\n",
    "class Rectangle:\n",
    "    def area(self,l,b):\n",
    "        return l*b\n",
    "    def pmtr(self,l,b):\n",
    "        return (l+b)*2\n",
    "r1=Rectangle()\n",
    "r2=Rectangle()\n",
    "l1=int(input(\"ENTER LENGTH OF FIRST RECTANGLE:\" ))\n",
    "b1=int(input(\"ENTER BREADTH OF FIRST RECTANGLE: \"))\n",
    "l2=int(input(\"ENTER LENGTH OF SECOND RECTANGLE:\" ))\n",
    "b2=int(input(\"ENTER BREADTH OF SECOND RECTANGLE:\" ))\n",
    "print(\"PERIMETER OF FIRST: \",r1.pmtr(l1,b1))\n",
    "print(\"PERIMETER OF SECOND: \",r1.pmtr(l2,b2))\n",
    "a1=r1.area(l1,b1)\n",
    "a2=r2.area(l2,b2)\n",
    "if a1>a2:\n",
    "    print(\"FIRST RECTANGLE IS LARGER IN AREA AND THE DIFFERENCE IS,\",(a1-a2))\n",
    "else:\n",
    "    print(\"SECOND RECTANGLE IS LARGER IN AREA AND THE DIFFERENCE IS,\",(a2-a1))"
   ]
  },
  {
   "cell_type": "code",
   "execution_count": 8,
   "id": "23071541",
   "metadata": {},
   "outputs": [
    {
     "name": "stdout",
     "output_type": "stream",
     "text": [
      "Enter name: ambili\n",
      "Enter roll no: 4\n",
      "Enter cls: 12\n",
      "ROLL NO,NAME,CLASS=>  4 , ambili , 12\n"
     ]
    }
   ],
   "source": [
    "#details of student using constructor\n",
    "class student:\n",
    "    def __init__(self,r,n,c):\n",
    "        self.rno=r\n",
    "        self.name=n\n",
    "        self.cls=c\n",
    "    def disp(self):\n",
    "        print(\"ROLL NO,NAME,CLASS=> \",self.rno,\",\",self.name,\",\",self.cls)\n",
    "nm=input(\"Enter name: \")\n",
    "rn=int(input(\"Enter roll no: \"))\n",
    "cl=int(input(\"Enter cls: \"))\n",
    "stud=student(rn,nm,cl)\n",
    "stud.disp()"
   ]
  },
  {
   "cell_type": "code",
   "execution_count": 13,
   "id": "c2298562",
   "metadata": {},
   "outputs": [
    {
     "name": "stdout",
     "output_type": "stream",
     "text": [
      "Enter account number: 10002\n",
      "Enter name: ambili\n",
      "Enter account type: savings\n",
      "Enter first deposit(min-500):50000\n",
      "If you want to withdraw press 1 ,deposite press 2 ,unless any key.1\n",
      "Enter amount to debit..5000\n",
      "SUCCESSFULLY DEBITED...,Your current balance is  45000\n",
      "If you want to withdraw press 1 ,deposite press 2 ,unless any key.2\n",
      "Enter amount to deposite..1000\n",
      "SUCCESSFULLY DEPOSITED...,Your current balance is  46000\n",
      "If you want to withdraw press 1 ,deposite press 2 ,unless any key.4\n",
      "Thank you come again...\n"
     ]
    }
   ],
   "source": [
    "#bank account,deposit,debit\n",
    "class bankaccount:\n",
    "    def __init__(self,accno,name,typ,bal):\n",
    "        self.accnum=accno\n",
    "        self.nm=name\n",
    "        self.ty=typ\n",
    "        self.ba=bal\n",
    "    def deposit(self,damnt):\n",
    "        self.ba=self.ba+damnt\n",
    "        print(\"SUCCESSFULLY DEPOSITED...,Your current balance is \",self.ba)\n",
    "    def withdraw(self,wamnt):\n",
    "        self.ba=self.ba-wamnt\n",
    "        print(\"SUCCESSFULLY DEBITED...,Your current balance is \",self.ba)\n",
    "an=int(input(\"Enter account number: \"))\n",
    "na=input(\"Enter name: \")\n",
    "t=input(\"Enter account type: \")\n",
    "ba=int(input(\"Enter first deposit(min-500):\"))\n",
    "p1=bankaccount(an,na,t,ba)\n",
    "while(1):\n",
    "    ch=int(input(\"If you want to withdraw press 1 ,deposite press 2 ,unless any key.\"))\n",
    "    if ch==1:\n",
    "        wamount=int(input(\"Enter amount to debit..\"))\n",
    "        if p1.ba<wamount+500:\n",
    "            print(\"sorry You dont have enough balance to debit...\")\n",
    "        else:\n",
    "            p1.withdraw(wamount)\n",
    "    elif ch==2:\n",
    "        damount=int(input(\"Enter amount to deposite..\"))\n",
    "        p1.deposit(damount)\n",
    "    else:\n",
    "        print(\"Thank you come again...\")\n",
    "        break"
   ]
  },
  {
   "cell_type": "code",
   "execution_count": 1,
   "id": "7700d0ee",
   "metadata": {},
   "outputs": [
    {
     "name": "stdout",
     "output_type": "stream",
     "text": [
      "Enter publisher name:ram\n",
      "Enter book name: world\n",
      "Enter author name: raj\n",
      "Enter rate of book:200\n",
      "Enter number of pages:100\n",
      "Publisher name= ram\n",
      "Title= world\n",
      "Author= raj\n",
      "Rate= 200\n",
      "Number of pages= 100\n"
     ]
    }
   ],
   "source": [
    "#publisher,book,title,author\n",
    "class publisher:\n",
    "    def __init__(self,pname):\n",
    "        self.pubname=pname\n",
    "    def dis(self):\n",
    "        print(\"Publisher name=\",self.pubname)\n",
    "class book(publisher):\n",
    "    def __init__(self,pname,bname,author):\n",
    "        self.title=bname\n",
    "        self.auth=author\n",
    "        publisher.__init__(self,pname)\n",
    "    def display(self):\n",
    "        print(\"Title=\",self.title)\n",
    "        print(\"Author=\",self.auth)\n",
    "class python(book):\n",
    "    def __init__(self,pname,titl,au,price,np):\n",
    "        self.rate=price\n",
    "        self.nop=np\n",
    "        book.__init__(self,pname,titl,au)\n",
    "    def disp(self):\n",
    "        print(\"Rate=\",self.rate)\n",
    "        print(\"Number of pages=\",self.nop)\n",
    "p=input(\"Enter publisher name:\")\n",
    "bk=input(\"Enter book name: \")\n",
    "author=input(\"Enter author name: \")\n",
    "rt=int(input(\"Enter rate of book:\"))\n",
    "nup=int(input(\"Enter number of pages:\"))\n",
    "a=python(p,bk,author,rt,nup)\n",
    "a.dis()\n",
    "a.display()\n",
    "a.disp()"
   ]
  },
  {
   "cell_type": "code",
   "execution_count": 3,
   "id": "938bd275",
   "metadata": {},
   "outputs": [
    {
     "name": "stdout",
     "output_type": "stream",
     "text": [
      "ENTER LENGTH OF FIRST RECTANGLE:10\n",
      "ENTER BREADTH OF FIRST RECTANGLE: 20\n",
      "ENTER LENGTH OF SECOND RECTANGLE:5\n",
      "ENTER BREADTH OF SECOND RECTANGLE:10\n",
      "First is larger\n"
     ]
    }
   ],
   "source": [
    "#example of operator overloading \">\"\n",
    "class Rectangle:\n",
    "    def __init__(self,l,b):\n",
    "        self.a=l*b\n",
    "    def __gt__(self,other):\n",
    "        if self.a>other.a:\n",
    "            print(\"First is larger\")\n",
    "        else:\n",
    "            print(\"Second is larger\")\n",
    "\n",
    "l1=int(input(\"ENTER LENGTH OF FIRST RECTANGLE:\" ))\n",
    "b1=int(input(\"ENTER BREADTH OF FIRST RECTANGLE: \"))\n",
    "l2=int(input(\"ENTER LENGTH OF SECOND RECTANGLE:\" ))\n",
    "b2=int(input(\"ENTER BREADTH OF SECOND RECTANGLE:\" ))\n",
    "r1=Rectangle(l1,b1)\n",
    "r2=Rectangle(l2,b2)\n",
    "r1>r2\n",
    "#if l1>l2:\n",
    "# print(\"First is larger\")\n",
    "#else:\n",
    "# print(\"Second is larger\")"
   ]
  },
  {
   "cell_type": "code",
   "execution_count": 4,
   "id": "5e83f144",
   "metadata": {},
   "outputs": [
    {
     "name": "stdout",
     "output_type": "stream",
     "text": [
      "Enter hours for first:9\n",
      "Enter minutes for first30\n",
      "Enter seconds for first:55\n",
      "Enter hours for second:3\n",
      "Enter minutes for second35\n",
      "Enter seconds for second:10\n",
      "Added Time=> 1 hours: 6 minutes: 5 seconds\n"
     ]
    }
   ],
   "source": [
    "#example of operator overloading \"+\"\n",
    "#to add 2 times\n",
    "class time:\n",
    "    def __init__(self,hr,mint,sec):\n",
    "        self.__h=hr\n",
    "        self.__m=mint\n",
    "        self.__s=sec\n",
    "    def __add__(self,other):\n",
    "        ss=self.__s+other.__s\n",
    "        if ss>=60:\n",
    "            mm=1\n",
    "            ss=ss-60\n",
    "            mm=mm+self.__m+other.__m\n",
    "        if mm>=60:\n",
    "            hh=1\n",
    "            mm=mm-60\n",
    "            hh=hh+self.__h+other.__h\n",
    "        if hh>=13:\n",
    "            hh=hh-12\n",
    "            print(\"Added Time=>\",hh,\"hours:\",mm,\"minutes:\",ss,\"seconds\")\n",
    "\n",
    "h1=int(input(\"Enter hours for first:\"))\n",
    "m1=int(input(\"Enter minutes for first\"))\n",
    "s1=int(input(\"Enter seconds for first:\"))\n",
    "h2=int(input(\"Enter hours for second:\"))\n",
    "m2=int(input(\"Enter minutes for second\"))\n",
    "s2=int(input(\"Enter seconds for second:\"))\n",
    "t1=time(h1,m1,s1)\n",
    "t2=time(h2,m2,s2)\n",
    "t1+t2"
   ]
  },
  {
   "cell_type": "code",
   "execution_count": null,
   "id": "6330a4cd",
   "metadata": {},
   "outputs": [],
   "source": []
  }
 ],
 "metadata": {
  "kernelspec": {
   "display_name": "Python 3 (ipykernel)",
   "language": "python",
   "name": "python3"
  },
  "language_info": {
   "codemirror_mode": {
    "name": "ipython",
    "version": 3
   },
   "file_extension": ".py",
   "mimetype": "text/x-python",
   "name": "python",
   "nbconvert_exporter": "python",
   "pygments_lexer": "ipython3",
   "version": "3.7.11"
  }
 },
 "nbformat": 4,
 "nbformat_minor": 5
}
