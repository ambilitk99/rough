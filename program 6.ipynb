{
 "cells": [
  {
   "cell_type": "code",
   "execution_count": 10,
   "metadata": {},
   "outputs": [
    {
     "name": "stdout",
     "output_type": "stream",
     "text": [
      "    cars  passing\n",
      "0    BMW        3\n",
      "1  volvo        7\n",
      "2   ford        2\n"
     ]
    }
   ],
   "source": [
    "import pandas as pd\n",
    "a={'cars' : [\"BMW\",\"volvo\",\"ford\"],'passing' : [3,7,2]}\n",
    "b=pd.DataFrame(a)\n",
    "print(b)"
   ]
  },
  {
   "cell_type": "code",
   "execution_count": 2,
   "metadata": {},
   "outputs": [
    {
     "name": "stdout",
     "output_type": "stream",
     "text": [
      "    Duration         Date  Pulse  Maxpulse  Calories\n",
      "0         60  2020/12/01'    110     130.0       NaN\n",
      "1         60  2020/12/02'    117     145.0     479.0\n",
      "2         60  2020/12/03'    103     135.0     340.0\n",
      "3        450  2020/12/04'    109     175.0     201.0\n",
      "4         45  2020/12/05'    117     148.0      62.0\n",
      "5         60  2020/12/06'    102     127.5      77.0\n",
      "6         60  2020/12/07'    110     136.0     216.0\n",
      "7         45  2020/12/08'    104     134.0     253.0\n",
      "8         30     20201209    109     133.0       NaN\n",
      "9         60  2020/12/10'     98     124.0     269.0\n",
      "10        60  2020/12/11'    103     147.0     329.0\n",
      "11        60  2020/12/12'    100     120.0     250.0\n",
      "12        60  2020/12/12'    100     120.0     250.0\n"
     ]
    }
   ],
   "source": [
    "a=pd.read_csv('vt.csv')\n",
    "print(a)"
   ]
  },
  {
   "cell_type": "code",
   "execution_count": 3,
   "metadata": {},
   "outputs": [
    {
     "name": "stdout",
     "output_type": "stream",
     "text": [
      "    Duration         Date  Pulse  Maxpulse  Calories\n",
      "0         60  2020/12/01'    110     130.0       NaN\n",
      "1         60  2020/12/02'    117     145.0     479.0\n",
      "2         60  2020/12/03'    103     135.0     340.0\n",
      "3        450  2020/12/04'    109     175.0     201.0\n",
      "4         45  2020/12/05'    117     148.0      62.0\n",
      "5         60  2020/12/06'    102     127.5      77.0\n",
      "6         60  2020/12/07'    110     136.0     216.0\n",
      "7         45  2020/12/08'    104     134.0     253.0\n",
      "8         30     20201209    109     133.0       NaN\n",
      "9         60  2020/12/10'     98     124.0     269.0\n",
      "10        60  2020/12/11'    103     147.0     329.0\n",
      "11        60  2020/12/12'    100     120.0     250.0\n",
      "12        60  2020/12/12'    100     120.0     250.0\n"
     ]
    }
   ],
   "source": [
    "print(a.to_string())"
   ]
  },
  {
   "cell_type": "code",
   "execution_count": 4,
   "metadata": {},
   "outputs": [
    {
     "name": "stdout",
     "output_type": "stream",
     "text": [
      "<class 'pandas.core.frame.DataFrame'>\n",
      "RangeIndex: 13 entries, 0 to 12\n",
      "Data columns (total 5 columns):\n",
      "Duration    13 non-null int64\n",
      "Date        13 non-null object\n",
      "Pulse       13 non-null int64\n",
      "Maxpulse    13 non-null float64\n",
      "Calories    11 non-null float64\n",
      "dtypes: float64(2), int64(2), object(1)\n",
      "memory usage: 600.0+ bytes\n",
      "None\n",
      "    Duration         Date  Pulse  Maxpulse  Calories\n",
      "0         60  2020/12/01'    110     130.0       NaN\n",
      "1         60  2020/12/02'    117     145.0     479.0\n",
      "2         60  2020/12/03'    103     135.0     340.0\n",
      "3        450  2020/12/04'    109     175.0     201.0\n",
      "4         45  2020/12/05'    117     148.0      62.0\n",
      "5         60  2020/12/06'    102     127.5      77.0\n",
      "6         60  2020/12/07'    110     136.0     216.0\n",
      "7         45  2020/12/08'    104     134.0     253.0\n",
      "8         30     20201209    109     133.0       NaN\n",
      "9         60  2020/12/10'     98     124.0     269.0\n",
      "10        60  2020/12/11'    103     147.0     329.0\n",
      "11        60  2020/12/12'    100     120.0     250.0\n",
      "12        60  2020/12/12'    100     120.0     250.0\n"
     ]
    }
   ],
   "source": [
    "a=pd.read_csv('vt.csv')\n",
    "print(a.info())\n",
    "print(a)"
   ]
  },
  {
   "cell_type": "code",
   "execution_count": 7,
   "metadata": {},
   "outputs": [
    {
     "name": "stdout",
     "output_type": "stream",
     "text": [
      "   Duration         Date  Pulse  Maxpulse  Calories\n",
      "0        60  2020/12/01'    110     130.0       NaN\n",
      "1        60  2020/12/02'    117     145.0     479.0\n",
      "2        60  2020/12/03'    103     135.0     340.0\n",
      "3       450  2020/12/04'    109     175.0     201.0\n",
      "4        45  2020/12/05'    117     148.0      62.0\n"
     ]
    }
   ],
   "source": [
    "a=pd.read_csv('vt.csv')\n",
    "print(a.head(5))\n"
   ]
  },
  {
   "cell_type": "code",
   "execution_count": 14,
   "metadata": {},
   "outputs": [
    {
     "name": "stdout",
     "output_type": "stream",
     "text": [
      "    Duration         Date  Pulse  Maxpulse  Calories\n",
      "0         60  2020/12/01'    110     130.0     130.0\n",
      "1         60  2020/12/02'    117     145.0     479.0\n",
      "2         60  2020/12/03'    103     135.0     340.0\n",
      "3        450  2020/12/04'    109     175.0     201.0\n",
      "4         45  2020/12/05'    117     148.0      62.0\n",
      "5         60  2020/12/06'    102     127.5      77.0\n",
      "6         60  2020/12/07'    110     136.0     216.0\n",
      "7         45  2020/12/08'    104     134.0     253.0\n",
      "8         30     20201209    109     133.0     130.0\n",
      "9         60  2020/12/10'     98     124.0     269.0\n",
      "10        60  2020/12/11'    103     147.0     329.0\n",
      "11        60  2020/12/12'    100     120.0     250.0\n",
      "12        60  2020/12/12'    100     120.0     250.0\n"
     ]
    }
   ],
   "source": [
    "a=pd.read_csv('vt.csv')\n",
    "a['Calories'].fillna(130,inplace=True)\n",
    "print(a)"
   ]
  },
  {
   "cell_type": "code",
   "execution_count": 15,
   "metadata": {
    "scrolled": true
   },
   "outputs": [
    {
     "name": "stdout",
     "output_type": "stream",
     "text": [
      "    Duration         Date  Pulse  Maxpulse  Calories\n",
      "0         60  2020/12/01'    110     130.0     150.0\n",
      "1         60  2020/12/02'    117     145.0     479.0\n",
      "2         60  2020/12/03'    103     135.0     340.0\n",
      "3        450  2020/12/04'    109     175.0     201.0\n",
      "4         45  2020/12/05'    117     148.0      62.0\n",
      "5         60  2020/12/06'    102     127.5      77.0\n",
      "6         60  2020/12/07'    110     136.0     216.0\n",
      "7         45  2020/12/08'    104     134.0     253.0\n",
      "8         30     20201209    109     133.0     150.0\n",
      "9         60  2020/12/10'     98     124.0     269.0\n",
      "10        60  2020/12/11'    103     147.0     329.0\n",
      "11        60  2020/12/12'    100     120.0     250.0\n",
      "12        60  2020/12/12'    100     120.0     250.0\n"
     ]
    }
   ],
   "source": [
    "a=pd.read_csv('vt.csv')\n",
    "mean=a['Calories'].mean()\n",
    "a['Calories'].fillna(150,inplace=True)\n",
    "print(a)"
   ]
  },
  {
   "cell_type": "code",
   "execution_count": 16,
   "metadata": {},
   "outputs": [
    {
     "name": "stdout",
     "output_type": "stream",
     "text": [
      "    Duration         Date  Pulse  Maxpulse  Calories\n",
      "0         60  2020/12/01'    110     130.0     160.0\n",
      "1         60  2020/12/02'    117     145.0     479.0\n",
      "2         60  2020/12/03'    103     135.0     340.0\n",
      "3        450  2020/12/04'    109     175.0     201.0\n",
      "4         45  2020/12/05'    117     148.0      62.0\n",
      "5         60  2020/12/06'    102     127.5      77.0\n",
      "6         60  2020/12/07'    110     136.0     216.0\n",
      "7         45  2020/12/08'    104     134.0     253.0\n",
      "8         30     20201209    109     133.0     160.0\n",
      "9         60  2020/12/10'     98     124.0     269.0\n",
      "10        60  2020/12/11'    103     147.0     329.0\n",
      "11        60  2020/12/12'    100     120.0     250.0\n",
      "12        60  2020/12/12'    100     120.0     250.0\n"
     ]
    }
   ],
   "source": [
    "a=pd.read_csv('vt.csv')\n",
    "mode=a['Calories'].mode()\n",
    "a['Calories'].fillna(160,inplace=True)\n",
    "print(a)"
   ]
  },
  {
   "cell_type": "code",
   "execution_count": 20,
   "metadata": {},
   "outputs": [
    {
     "name": "stdout",
     "output_type": "stream",
     "text": [
      "    Duration       Date  Pulse  Maxpulse  Calories\n",
      "0         60 2020-12-01    110     130.0       NaN\n",
      "1         60 2020-12-02    117     145.0     479.0\n",
      "2         60 2020-12-03    103     135.0     340.0\n",
      "3        450 2020-12-04    109     175.0     201.0\n",
      "4         45 2020-12-05    117     148.0      62.0\n",
      "5         60 2020-12-06    102     127.5      77.0\n",
      "6         60 2020-12-07    110     136.0     216.0\n",
      "7         45 2020-12-08    104     134.0     253.0\n",
      "8         30 2020-12-09    109     133.0       NaN\n",
      "9         60 2020-12-10     98     124.0     269.0\n",
      "10        60 2020-12-11    103     147.0     329.0\n",
      "11        60 2020-12-12    100     120.0     250.0\n",
      "12        60 2020-12-12    100     120.0     250.0\n"
     ]
    }
   ],
   "source": [
    "#Changing Date format\n",
    "\n",
    "a=pd.read_csv('vt.csv')\n",
    "a['Date']=pd.to_datetime(a['Date'])\n",
    "print(a)"
   ]
  },
  {
   "cell_type": "code",
   "execution_count": 21,
   "metadata": {},
   "outputs": [
    {
     "name": "stdout",
     "output_type": "stream",
     "text": [
      "    Duration       Date  Pulse  Maxpulse  Calories\n",
      "0         60 2020-12-01    110     130.0       130\n",
      "1         60 2020-12-02    117     145.0       479\n",
      "2         60 2020-12-03    103     135.0       340\n",
      "3        450 2020-12-04    109     175.0       201\n",
      "4         45 2020-12-05    117     148.0        62\n",
      "5         60 2020-12-06    102     127.5        77\n",
      "6         60 2020-12-07    110     136.0       216\n",
      "7         45 2020-12-08    104     134.0       253\n",
      "8         30 2020-12-09    109     133.0       130\n",
      "9         60 2020-12-10     98     124.0       269\n",
      "10        60 2020-12-11    103     147.0       329\n",
      "11        60 2020-12-12    100     120.0       250\n",
      "12        60 2020-12-12    100     120.0       250\n"
     ]
    }
   ],
   "source": [
    "#Changing Datatype  \n",
    "\n",
    "a=pd.read_csv('vt.csv')\n",
    "a['Calories'].fillna(130,inplace=True)\n",
    "a['Date']=pd.to_datetime(a['Date'])\n",
    "a['Calories']=a['Calories'].astype('int')\n",
    "print(a)"
   ]
  },
  {
   "cell_type": "code",
   "execution_count": 22,
   "metadata": {},
   "outputs": [
    {
     "name": "stdout",
     "output_type": "stream",
     "text": [
      "    Duration       Date  Pulse  Maxpulse  Calories\n",
      "0         60 2020-12-01    110     130.0       130\n",
      "1         60 2020-12-02    117     145.0       479\n",
      "2         60 2020-12-03    103     135.0       340\n",
      "3         45 2020-12-04    109     175.0       201\n",
      "4         45 2020-12-05    117     148.0        62\n",
      "5         60 2020-12-06    102     127.5        77\n",
      "6         60 2020-12-07    110     136.0       216\n",
      "7         45 2020-12-08    104     134.0       253\n",
      "8         30 2020-12-09    109     133.0       130\n",
      "9         60 2020-12-10     98     124.0       269\n",
      "10        60 2020-12-11    103     147.0       329\n",
      "11        60 2020-12-12    100     120.0       250\n",
      "12        60 2020-12-12    100     120.0       250\n"
     ]
    }
   ],
   "source": [
    "#wrong data correction\n",
    "\n",
    "a=pd.read_csv('vt.csv')\n",
    "a['Calories'].fillna(130,inplace=True)\n",
    "a['Date']=pd.to_datetime(a['Date'])\n",
    "a['Calories']=a['Calories'].astype('int')\n",
    "a.loc[3,'Duration']=45\n",
    "print(a)"
   ]
  },
  {
   "cell_type": "code",
   "execution_count": 24,
   "metadata": {},
   "outputs": [
    {
     "name": "stdout",
     "output_type": "stream",
     "text": [
      "    Duration       Date  Pulse  Maxpulse  Calories\n",
      "0         60 2020-12-01    110     130.0       130\n",
      "1         60 2020-12-02    117     145.0       479\n",
      "2         60 2020-12-03    103     135.0       340\n",
      "3         45 2020-12-04    109     175.0       201\n",
      "4         45 2020-12-05    117     148.0        62\n",
      "5         60 2020-12-06    102     127.5        77\n",
      "6         60 2020-12-07    110     136.0       216\n",
      "7         45 2020-12-08    104     134.0       253\n",
      "8         30 2020-12-09    109     133.0       130\n",
      "9         60 2020-12-10     98     124.0       269\n",
      "10        60 2020-12-11    103     147.0       329\n",
      "11        60 2020-12-12    100     120.0       250\n"
     ]
    }
   ],
   "source": [
    "# Removing Duplicated values\n",
    "\n",
    "a=pd.read_csv('vt.csv')\n",
    "a['Calories'].fillna(130,inplace=True)\n",
    "a['Date']=pd.to_datetime(a['Date'])\n",
    "a['Calories']=a['Calories'].astype('int')\n",
    "a.loc[3,'Duration']=45\n",
    "a.duplicated().any()\n",
    "a.drop_duplicates(inplace=True)\n",
    "print(a)"
   ]
  },
  {
   "cell_type": "code",
   "execution_count": null,
   "metadata": {
    "collapsed": true
   },
   "outputs": [],
   "source": []
  }
 ],
 "metadata": {
  "kernelspec": {
   "display_name": "Python 3",
   "language": "python",
   "name": "python3"
  },
  "language_info": {
   "codemirror_mode": {
    "name": "ipython",
    "version": 3
   },
   "file_extension": ".py",
   "mimetype": "text/x-python",
   "name": "python",
   "nbconvert_exporter": "python",
   "pygments_lexer": "ipython3",
   "version": "3.6.3"
  }
 },
 "nbformat": 4,
 "nbformat_minor": 2
}
